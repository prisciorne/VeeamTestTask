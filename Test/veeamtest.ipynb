{
 "cells": [
  {
   "cell_type": "code",
   "execution_count": 7,
   "metadata": {},
   "outputs": [],
   "source": [
    "import os\n",
    "import shutil\n",
    "import datetime"
   ]
  },
  {
   "cell_type": "code",
   "execution_count": 8,
   "metadata": {},
   "outputs": [],
   "source": [
    "# Define folders\n",
    "source_folder = \"C:/Users/Usuario/Documents/GitHub/Test/Source\"\n",
    "replica_folder = \"C:/Users/Usuario/Documents/GitHub/Test/Replica\"\n",
    "updates_folder = \"C:/Users/Usuario/Documents/GitHub/Test/Updates\"\n",
    "# Please update the paths before testing the code "
   ]
  },
  {
   "cell_type": "code",
   "execution_count": 23,
   "metadata": {},
   "outputs": [],
   "source": [
    "log_file_path = os.path.join(updates_folder, \"changes.log\")"
   ]
  },
  {
   "cell_type": "code",
   "execution_count": 24,
   "metadata": {},
   "outputs": [],
   "source": [
    "def synchronize_folders(source_folder, replica_folder, updates_folder):\n",
    "    \n",
    "    # List files in source folder with date and time details\n",
    "    source_files_with_time = {file: datetime.datetime.fromtimestamp(os.path.getmtime(os.path.join(source_folder, file))) for file in os.listdir(source_folder)}\n",
    "    \n",
    "    # List files in replica folder with date and time details\n",
    "    replica_files_with_time = {file: datetime.datetime.fromtimestamp(os.path.getmtime(os.path.join(replica_folder, file))) for file in os.listdir(replica_folder)}\n",
    "\n",
    "    # Check for different files\n",
    "    for source_file, source_time in source_files_with_time.items():\n",
    "        replica_file_path = os.path.join(replica_folder, source_file)\n",
    "        if source_file not in replica_files_with_time or source_time > replica_files_with_time[source_file]:\n",
    "            # Copy new or updated file to replica folder\n",
    "            shutil.copy(os.path.join(source_folder, source_file), replica_file_path)\n",
    "            message = f\"Copied {source_file} from source to replica.\"\n",
    "            print(message)\n",
    "            with open(log_file_path, \"a\") as updates_file:\n",
    "                updates_file.write(f\"{datetime.datetime.now()}: {message}\\n\")\n",
    "\n",
    "    # Check for files to delete in replica folder\n",
    "    for replica_file, replica_time in replica_files_with_time.items():\n",
    "        if replica_file not in source_files_with_time:\n",
    "            # Delete file from replica folder\n",
    "            os.remove(os.path.join(replica_folder, replica_file))\n",
    "            message = f\"Deleted {replica_file} from replica.\"\n",
    "            print(message)\n",
    "            with open(log_file_path, \"a\") as updates_file:\n",
    "                updates_file.write(f\"{datetime.datetime.now()}: {message}\\n\")"
   ]
  },
  {
   "cell_type": "code",
   "execution_count": 26,
   "metadata": {},
   "outputs": [
    {
     "name": "stdout",
     "output_type": "stream",
     "text": [
      "Copied Test.txt from source to replica.\n"
     ]
    }
   ],
   "source": [
    "synchronize_folders(source_folder, replica_folder, updates_folder)"
   ]
  }
 ],
 "metadata": {
  "kernelspec": {
   "display_name": "Python 3",
   "language": "python",
   "name": "python3"
  },
  "language_info": {
   "codemirror_mode": {
    "name": "ipython",
    "version": 3
   },
   "file_extension": ".py",
   "mimetype": "text/x-python",
   "name": "python",
   "nbconvert_exporter": "python",
   "pygments_lexer": "ipython3",
   "version": "3.10.11"
  }
 },
 "nbformat": 4,
 "nbformat_minor": 2
}
